{
  "nbformat": 4,
  "nbformat_minor": 0,
  "metadata": {
    "colab": {
      "provenance": []
    },
    "kernelspec": {
      "name": "python3",
      "display_name": "Python 3"
    },
    "language_info": {
      "name": "python"
    }
  },
  "cells": [
    {
      "cell_type": "code",
      "execution_count": 1,
      "metadata": {
        "colab": {
          "base_uri": "https://localhost:8080/"
        },
        "id": "p9CFlKDMZbsX",
        "outputId": "39fcdf6d-e019-4abc-8fff-88ca3c919f78"
      },
      "outputs": [
        {
          "output_type": "stream",
          "name": "stderr",
          "text": [
            "[nltk_data] Downloading package punkt to /root/nltk_data...\n",
            "[nltk_data]   Unzipping tokenizers/punkt.zip.\n"
          ]
        },
        {
          "output_type": "execute_result",
          "data": {
            "text/plain": [
              "True"
            ]
          },
          "metadata": {},
          "execution_count": 1
        }
      ],
      "source": [
        "import nltk\n",
        "nltk.download('punkt')\n"
      ]
    },
    {
      "cell_type": "code",
      "source": [
        "nltk.download('stopwords')"
      ],
      "metadata": {
        "colab": {
          "base_uri": "https://localhost:8080/"
        },
        "id": "Os2_qbf7ZsOK",
        "outputId": "76ff2a24-7c1c-428b-f57f-125ce526c54a"
      },
      "execution_count": 2,
      "outputs": [
        {
          "output_type": "stream",
          "name": "stderr",
          "text": [
            "[nltk_data] Downloading package stopwords to /root/nltk_data...\n",
            "[nltk_data]   Unzipping corpora/stopwords.zip.\n"
          ]
        },
        {
          "output_type": "execute_result",
          "data": {
            "text/plain": [
              "True"
            ]
          },
          "metadata": {},
          "execution_count": 2
        }
      ]
    },
    {
      "cell_type": "code",
      "source": [
        "import random\n",
        "import nltk\n",
        "from nltk.tokenize import word_tokenize\n",
        "from nltk.corpus import stopwords\n",
        "from nltk.util import ngrams\n",
        "from collections import defaultdict"
      ],
      "metadata": {
        "id": "e1kVMgQVZ0dg"
      },
      "execution_count": 3,
      "outputs": []
    },
    {
      "cell_type": "code",
      "source": [
        "# Sample dataset of stories or plotlines\n",
        "stories = [\n",
        "    \"Once upon a time, there was a brave knight who embarked on a quest to rescue a princess from a wicked dragon.\",\n",
        "    \"In a faraway land, a young orphan discovered a magical amulet that granted extraordinary powers.\",\n",
        "    \"On the bustling streets of a modern metropolis, a detective unraveled a web of deceit to solve a high-profile murder case.\"\n",
        "]"
      ],
      "metadata": {
        "id": "htxfJneaZ4wS"
      },
      "execution_count": 4,
      "outputs": []
    },
    {
      "cell_type": "code",
      "source": [
        "# Function to preprocess text\n",
        "def preprocess_text(text):\n",
        "    tokens = word_tokenize(text.lower())  # Tokenize and lowercase\n",
        "    # Remove stopwords and punctuation\n",
        "    stopwords_set = set(stopwords.words('english'))\n",
        "    tokens = [token for token in tokens if token.isalnum() and token not in stopwords_set]\n",
        "    return tokens"
      ],
      "metadata": {
        "id": "SMeNvPvlZ91J"
      },
      "execution_count": 5,
      "outputs": []
    },
    {
      "cell_type": "code",
      "source": [
        "# Function to generate n-grams from tokens\n",
        "def generate_ngrams(tokens, n=3):\n",
        "    ngram_counts = defaultdict(int)\n",
        "    for ngram in ngrams(tokens, n):\n",
        "        ngram_counts[ngram] += 1\n",
        "    return ngram_counts\n"
      ],
      "metadata": {
        "id": "8oIghfN7aE8d"
      },
      "execution_count": 6,
      "outputs": []
    },
    {
      "cell_type": "code",
      "source": [
        "# Function to select an n-gram from the preprocessed text\n",
        "def select_ngram(tokens):\n",
        "    ngram_counts = generate_ngrams(tokens)\n",
        "    sorted_ngrams = sorted(ngram_counts.items(), key=lambda x: x[1], reverse=True)\n",
        "    selected_ngram = random.choice(sorted_ngrams[:5])[0]\n",
        "    return selected_ngram"
      ],
      "metadata": {
        "id": "zcc3nYvZaRiw"
      },
      "execution_count": 7,
      "outputs": []
    },
    {
      "cell_type": "code",
      "source": [
        "# Function to generate a story based on parameters\n",
        "def generate_story(parameters):\n",
        "    # Select a random story from the dataset\n",
        "    story = random.choice(stories)\n",
        "\n",
        "    # Preprocess the selected story\n",
        "    preprocessed_story = preprocess_text(story)\n",
        "\n",
        "    # Select an n-gram from the preprocessed story\n",
        "    selected_ngram = select_ngram(preprocessed_story)\n",
        "\n",
        "    # Convert n-gram to text\n",
        "    generated_story = \" \".join(selected_ngram)\n",
        "\n",
        "    return generated_story"
      ],
      "metadata": {
        "id": "QJ6W_IoXaToi"
      },
      "execution_count": 8,
      "outputs": []
    },
    {
      "cell_type": "code",
      "source": [
        "# Example usage\n",
        "parameters = {\n",
        "    'theme': 'adventure',\n",
        "    'length': 'short',\n",
        "    'setting': 'fantasy'\n",
        "}"
      ],
      "metadata": {
        "id": "GSKCFjQPalPw"
      },
      "execution_count": 9,
      "outputs": []
    },
    {
      "cell_type": "code",
      "source": [
        "new_story = generate_story(parameters)\n",
        "print(\"Generated Storytitle:\")\n",
        "print(new_story)"
      ],
      "metadata": {
        "colab": {
          "base_uri": "https://localhost:8080/"
        },
        "id": "I-4lucdZao50",
        "outputId": "a3b11c88-2970-4435-a3ef-2320ca37381e"
      },
      "execution_count": 10,
      "outputs": [
        {
          "output_type": "stream",
          "name": "stdout",
          "text": [
            "Generated Storytitle:\n",
            "brave knight embarked\n"
          ]
        }
      ]
    }
  ]
}